{
 "cells": [
  {
   "cell_type": "markdown",
   "metadata": {},
   "source": [
    "## NUMPY REFRESHER\n",
    "\n",
    "1. Initialize Arrays from List\n",
    "- Create Arrays Directly\n",
    "- Slicing Arrays \n",
    "- Integer Array Indexing\n",
    "- Boolean Array Indexing\n",
    "- DataType\n",
    "- Array Math\n",
    "- Broadcasting\n",
    "- PIL & Matplotlib\n",
    "- Saving image dataset as .npy files.\n",
    "- Loading mulitple images (dataset) from .npy files (i.e. ndarray)\n",
    "- Saving mulitple image dataset as .npy files."
   ]
  },
  {
   "cell_type": "markdown",
   "metadata": {},
   "source": [
    "### N-Dimensional ARRAYS\n",
    "\n",
    "Numpy array : Grid of values with same datatype, indexed with a **tuple** of non-negative integers\n",
    "\n",
    "Number dimension : Rank of array\n",
    "\n",
    "Shape : Size of array along each dimension"
   ]
  },
  {
   "cell_type": "code",
   "execution_count": 1,
   "metadata": {},
   "outputs": [],
   "source": [
    "import numpy as np"
   ]
  },
  {
   "cell_type": "markdown",
   "metadata": {},
   "source": [
    "### Initialize Arrays from List"
   ]
  },
  {
   "cell_type": "code",
   "execution_count": 2,
   "metadata": {},
   "outputs": [
    {
     "name": "stdout",
     "output_type": "stream",
     "text": [
      "Rank:  1\n",
      "<class 'list'> <class 'numpy.ndarray'>\n",
      "ListLen: 3; ArrayShape: (3,)\n",
      "ListElement: 1; ArrayElement: 1\n"
     ]
    }
   ],
   "source": [
    "# 1 dimension / Rank 1\n",
    "normal_list_dim1 = [1,2,3]\n",
    "numpy_array_rank1 = np.array(normal_list_dim1)# To convert a list to a numpy\n",
    "print(\"Rank: \",numpy_array_rank1.ndim)\n",
    "print(type(normal_list_dim1),type(numpy_array_rank1))\n",
    "print(f\"ListLen: {len(normal_list_dim1)}; ArrayShape: {numpy_array_rank1.shape}\")\n",
    "print(f\"ListElement: {normal_list_dim1[0]}; ArrayElement: {numpy_array_rank1[0]}\")\n"
   ]
  },
  {
   "cell_type": "code",
   "execution_count": 3,
   "metadata": {},
   "outputs": [
    {
     "name": "stdout",
     "output_type": "stream",
     "text": [
      "\n",
      "Rank:  2\n",
      "<class 'list'> <class 'numpy.ndarray'>\n",
      "ListLen: 2; ArrayShape: (2, 3)\n",
      "ListElement: 2; ArrayElement: 2\n"
     ]
    }
   ],
   "source": [
    "# 2 dimensions / Rank 2\n",
    "normal_list_dim2 = [\n",
    "                    [1,2,3],\n",
    "                    [4,5,6]\n",
    "                   ]\n",
    "numpy_array_rank2 = np.array(normal_list_dim2)\n",
    "print(\"\\nRank: \",numpy_array_rank2.ndim)\n",
    "print(type(normal_list_dim2),type(numpy_array_rank2)) # List vs Array\n",
    "print(f\"ListLen: {len(normal_list_dim2)}; ArrayShape: {numpy_array_rank2.shape}\") \n",
    "print(f\"ListElement: {normal_list_dim2[0][1]}; ArrayElement: {numpy_array_rank2[0,1]}\") \n"
   ]
  },
  {
   "cell_type": "code",
   "execution_count": 4,
   "metadata": {},
   "outputs": [],
   "source": [
    "# 3 dimensions / Rank 3\n",
    "normal_list_dim3 = [\n",
    "                    [ \n",
    "                      [1,2,3],\n",
    "                      [4,5,6] \n",
    "                    ],\n",
    "                    [ \n",
    "                      [7,8,9],\n",
    "                      [10,11,12] \n",
    "                    ]\n",
    "                   ]\n",
    "\n",
    "numpy_array_rank3 = np.array(normal_list_dim3)"
   ]
  },
  {
   "cell_type": "code",
   "execution_count": 5,
   "metadata": {},
   "outputs": [
    {
     "name": "stdout",
     "output_type": "stream",
     "text": [
      "\n",
      "Rank:  3\n",
      "<class 'list'> <class 'numpy.ndarray'>\n",
      "ListLen: 2; ArrayShape: (2, 2, 3)\n",
      "ListElement: 5; ArrayElement: 5\n"
     ]
    },
    {
     "data": {
      "text/plain": [
       "[[[1, 2, 3], [4, 5, 6]], [[7, 8, 9], [10, 11, 12]]]"
      ]
     },
     "execution_count": 5,
     "metadata": {},
     "output_type": "execute_result"
    }
   ],
   "source": [
    "\n",
    "print(\"\\nRank: \",numpy_array_rank3.ndim) \n",
    "\n",
    "print(type(normal_list_dim3),type(numpy_array_rank3)) # List vs Array\n",
    "print(f\"ListLen: {len(normal_list_dim3)}; ArrayShape: {numpy_array_rank3.shape}\") \n",
    "print(f\"ListElement: {normal_list_dim3[0][1][1]}; ArrayElement: {numpy_array_rank3[0,1,1]}\") \n",
    "normal_list_dim3"
   ]
  },
  {
   "cell_type": "markdown",
   "metadata": {},
   "source": [
    "### Create Arrays Directly"
   ]
  },
  {
   "cell_type": "code",
   "execution_count": 6,
   "metadata": {},
   "outputs": [
    {
     "name": "stdout",
     "output_type": "stream",
     "text": [
      "[[0. 0.]\n",
      " [0. 0.]]\n",
      "[[1. 1.]\n",
      " [1. 1.]]\n",
      "[[3 3]\n",
      " [3 3]]\n",
      "[[1. 0.]\n",
      " [0. 1.]]\n",
      "[[0.94661896 0.72115048]\n",
      " [0.35605878 0.45142971]]\n"
     ]
    }
   ],
   "source": [
    "all_zero_array = np.zeros((2,2))\n",
    "print(all_zero_array)\n",
    "all_ones_array = np.ones((2,2))\n",
    "print(all_ones_array)\n",
    "all_const_array = np.full((2,2),3)\n",
    "print(all_const_array)\n",
    "diagonal_array = np.eye(2,2) # only 2D array is possible (identity matrix)\n",
    "print(diagonal_array)\n",
    "\n",
    "#np.random.seed(0) # To see it (i.e. always the same results)\n",
    "random_array = np.random.random((2,2))\n",
    "print(random_array)\n",
    "\n",
    "\n",
    "#np.set_printoptions(precision=3)\n",
    "#np.set_printoptions(suppress=True) #To supprress scientific notation of small numbers\n"
   ]
  },
  {
   "cell_type": "markdown",
   "metadata": {},
   "source": [
    "### Slicing Arrays \n",
    "- Use: To get sub-arrays from original array"
   ]
  },
  {
   "cell_type": "code",
   "execution_count": 7,
   "metadata": {},
   "outputs": [
    {
     "name": "stdout",
     "output_type": "stream",
     "text": [
      "[[ 1  2  3  4]\n",
      " [ 5  6  7  8]\n",
      " [ 9 10 11 12]\n",
      " [13 14 15 16]]\n",
      "[[ 6  7]\n",
      " [10 11]]\n",
      " Output: [[6]]; Shape: (1, 1)\n",
      " Output: [6]; Shape: (1,)\n",
      " Output: 6; Shape: ()\n"
     ]
    }
   ],
   "source": [
    "# SLICING ARRAY (output array of same rank)\n",
    "# Get Sub Array\n",
    "array_in = np.array([[1,2,3,4],[5,6,7,8],[9,10,11,12],[13,14,15,16]])\n",
    "print (array_in)\n",
    "\n",
    "subarray_in = array_in[1:3,1:3]\n",
    "print (subarray_in)\n",
    "element_slice_in = array_in[1:2,1:2]\n",
    "print (f\" Output: {element_slice_in}; Shape: {element_slice_in.shape}\")\n",
    "\n",
    "# Indexing (output array of lower rank)\n",
    "element_index_in_1 = array_in[1,1:2]\n",
    "print (f\" Output: {element_index_in_1}; Shape: {element_index_in_1.shape}\")\n",
    "element_index_in_2 = array_in[1,1]\n",
    "print (f\" Output: {element_index_in_2}; Shape: {element_index_in_2.shape}\")"
   ]
  },
  {
   "cell_type": "markdown",
   "metadata": {},
   "source": [
    "### Integer Array Indexing\n",
    "- Use: To select and create new arbitary array from the original array\n",
    "- Use: To manipulate selected elemnents of the original array"
   ]
  },
  {
   "cell_type": "code",
   "execution_count": 8,
   "metadata": {},
   "outputs": [
    {
     "name": "stdout",
     "output_type": "stream",
     "text": [
      "[[1 2 3]\n",
      " [4 5 6]\n",
      " [7 8 9]]\n",
      "[1 5 9]\n",
      "[1 5 9]\n",
      "[3 3 3]\n",
      "[2 4 8]\n",
      "[[1 0 3]\n",
      " [0 5 6]\n",
      " [7 0 9]]\n"
     ]
    }
   ],
   "source": [
    "# INTEGER ARRAY INDEXING\n",
    "# Get Arbitary Arrays\n",
    "array_in = np.array([[1,2,3],[4,5,6],[7,8,9]])\n",
    "print (array_in)\n",
    "int_index = array_in[[0,1,2],[0,1,2]]\n",
    "print (int_index)\n",
    "# Equals to \n",
    "print(np.array([array_in[0,0],array_in[1,1],array_in[2,2]]))\n",
    "\n",
    "custom_int_index = array_in[[0,0,0],[2,2,2]]\n",
    "print (custom_int_index)\n",
    "\n",
    "# Manipulate Arrays with indices\n",
    "select_array = np.array([1,0,1]) # to select 2,4,8\n",
    "print(array_in[np.arange(3),select_array])\n",
    "\n",
    "array_in[np.arange(3),select_array]=0\n",
    "print(array_in)\n"
   ]
  },
  {
   "cell_type": "markdown",
   "metadata": {},
   "source": [
    "### Boolean Array Indexing\n",
    "- Use: To select elements based on specified condition (like masking)"
   ]
  },
  {
   "cell_type": "code",
   "execution_count": 9,
   "metadata": {},
   "outputs": [
    {
     "name": "stdout",
     "output_type": "stream",
     "text": [
      "[[False False False]\n",
      " [False False  True]\n",
      " [ True  True  True]]\n",
      "Selected: [6 7 8 9]\n",
      "[6 7 8 9]\n"
     ]
    }
   ],
   "source": [
    "array_in = np.array([[1,2,3],[4,5,6],[7,8,9]])\n",
    "bool_condition_array = array_in>5\n",
    "print(bool_condition_array)\n",
    "condition_array = array_in[bool_condition_array]\n",
    "print (f\"Selected: {condition_array}\")\n",
    "\n",
    "# OR simply\n",
    "condition_array_1 = array_in[array_in>5]\n",
    "print (condition_array_1)\n",
    "\n",
    "# "
   ]
  },
  {
   "cell_type": "markdown",
   "metadata": {},
   "source": [
    "### DataType\n",
    "- E.g. "
   ]
  },
  {
   "cell_type": "code",
   "execution_count": 10,
   "metadata": {},
   "outputs": [
    {
     "name": "stdout",
     "output_type": "stream",
     "text": [
      "int64\n",
      "float64\n"
     ]
    }
   ],
   "source": [
    "# specify a datatype\n",
    "int_array = np.array([1,2,3,4],dtype=np.int64) # 64-bit integer number\n",
    "print(int_array.dtype)\n",
    "float_array = np.array([1,2,3,4],dtype=np.float64) #64-bit floating-point number\n",
    "print(float_array.dtype)"
   ]
  },
  {
   "cell_type": "markdown",
   "metadata": {},
   "source": [
    "### Array Math\n",
    "- Element-wise"
   ]
  },
  {
   "cell_type": "code",
   "execution_count": 11,
   "metadata": {},
   "outputs": [
    {
     "name": "stdout",
     "output_type": "stream",
     "text": [
      "Add: \n",
      " [[ 2.  3.  4.]\n",
      " [ 6.  7.  8.]\n",
      " [10. 11. 12.]]\n",
      "Subtract: \n",
      " [[0. 1. 2.]\n",
      " [2. 3. 4.]\n",
      " [4. 5. 6.]]\n",
      "Multiply: \n",
      " [[ 1.  2.  3.]\n",
      " [ 8. 10. 12.]\n",
      " [21. 24. 27.]]\n",
      "Divide: \n",
      " [[1.         2.         3.        ]\n",
      " [2.         2.5        3.        ]\n",
      " [2.33333333 2.66666667 3.        ]]\n"
     ]
    }
   ],
   "source": [
    "# Element-Wise Operations\n",
    "arr1 = np.array([[1,2,3],[4,5,6],[7,8,9]],dtype=np.float64)\n",
    "arr2 = np.array([[1,1,1],[2,2,2],[3,3,3]],dtype=np.float64)\n",
    "\n",
    "# Addition\n",
    "print(\"Add: \\n\",arr1+arr2)\n",
    "#print(np.add(arr1,arr2))\n",
    "\n",
    "# Subtraction\n",
    "print(\"Subtract: \\n\",arr1-arr2)\n",
    "#print(np.subtract(arr1,arr2))\n",
    "\n",
    "# Multiply (Element-Wise)\n",
    "print(\"Multiply: \\n\",arr1*arr2)\n",
    "#print(np.multiply(arr1,arr2))\n",
    "\n",
    "# Division\n",
    "print(\"Divide: \\n\",arr1/arr2)\n",
    "#print(np.divide(arr1,arr2))"
   ]
  },
  {
   "cell_type": "markdown",
   "metadata": {},
   "source": [
    "### Array Math (Non-Element-Wise)\n",
    "- Multiply Vector by Vector (Inner Product)\n",
    "- Multiply Vector by Matrix\n",
    "- Multiply Matrix by Matrix"
   ]
  },
  {
   "cell_type": "code",
   "execution_count": 12,
   "metadata": {},
   "outputs": [],
   "source": [
    "# VECTOR\n",
    "vec_u = np.array([1,3]) \n",
    "vec_v = np.array([2,4])\n",
    "# print(f\"Vec U:\\n {vec_u}\")\n",
    "# print(f\"Vec V:\\n {vec_v}\")\n",
    "# MATRIX\n",
    "mat_x = np.array([[1,2],[3,4]]) \n",
    "mat_y = np.array([[5,6],[7,8]])\n",
    "# print(f\"Mat X:\\n {mat_x}\")\n",
    "# print(f\"Mat Y:\\n {mat_y}\")"
   ]
  },
  {
   "cell_type": "code",
   "execution_count": 13,
   "metadata": {},
   "outputs": [
    {
     "name": "stdout",
     "output_type": "stream",
     "text": [
      "14\n"
     ]
    }
   ],
   "source": [
    "# Multiply Vector by Vector (Inner Product) \n",
    "# 1x2 : 1x2\n",
    "print(vec_u.dot(vec_v)) \n",
    "# print(np.dot(vec_u,vec_v))"
   ]
  },
  {
   "cell_type": "markdown",
   "metadata": {},
   "source": [
    "- vec_u.dot(vec_v)\n",
    "$$\n",
    "\\begin{bmatrix} 1 & 3 \\end{bmatrix}\n",
    "\\begin{bmatrix} 2 \\\\ 4 \\end{bmatrix}\n",
    "=\n",
    "(1\\times2)+(3\\times4) \n",
    "=\n",
    "14\n",
    "$$"
   ]
  },
  {
   "cell_type": "markdown",
   "metadata": {},
   "source": [
    "*Matrix multiplication is not* **commutative**"
   ]
  },
  {
   "cell_type": "code",
   "execution_count": 14,
   "metadata": {},
   "outputs": [
    {
     "name": "stdout",
     "output_type": "stream",
     "text": [
      "[ 7 15]\n"
     ]
    }
   ],
   "source": [
    "# Multiply Vector by Matrix\n",
    "print(mat_x.dot(vec_u)) # 2x2 : 2x1  "
   ]
  },
  {
   "cell_type": "markdown",
   "metadata": {},
   "source": [
    "\n",
    "- mat_x.dot(vec_u)\n",
    "$$\n",
    "\\begin{bmatrix} 1 & 2 \\\\ 3 & 4 \\end{bmatrix}\n",
    "\\begin{bmatrix} 1 \\\\ 3 \\end{bmatrix}\n",
    "=\n",
    "\\begin{bmatrix} (1\\times1)+(2\\times3) \\\\ (3\\times1)+(4\\times3) \\end{bmatrix}\n",
    "=\n",
    "\\begin{bmatrix} 7 \\\\ 15 \\end{bmatrix}\n",
    "$$"
   ]
  },
  {
   "cell_type": "code",
   "execution_count": 15,
   "metadata": {},
   "outputs": [
    {
     "name": "stdout",
     "output_type": "stream",
     "text": [
      "[10 14]\n"
     ]
    }
   ],
   "source": [
    "print(vec_u.dot(mat_x)) # 1x2: 2x2  "
   ]
  },
  {
   "cell_type": "markdown",
   "metadata": {},
   "source": [
    "- vec_u.dot(mat_x)\n",
    "$$\n",
    "\\begin{bmatrix} 1 & 3 \\end{bmatrix}\n",
    "\\begin{bmatrix} 1 & 2 \\\\ 3 & 4 \\end{bmatrix}\n",
    "=\n",
    "\\begin{bmatrix} (1\\times1)+(3\\times3) & (1\\times2)+(3\\times4) \\end{bmatrix}\n",
    "=\n",
    "\\begin{bmatrix} 10 & 14 \\end{bmatrix}\n",
    "$$"
   ]
  },
  {
   "cell_type": "code",
   "execution_count": 16,
   "metadata": {},
   "outputs": [
    {
     "name": "stdout",
     "output_type": "stream",
     "text": [
      "[[19 22]\n",
      " [43 50]]\n"
     ]
    }
   ],
   "source": [
    "# Multiply Matrix by Matrix\n",
    "print(mat_x.dot(mat_y))"
   ]
  },
  {
   "cell_type": "markdown",
   "metadata": {},
   "source": [
    "- mat_x.dot(mat_y)\n",
    "$$\n",
    "\\begin{bmatrix} 1 & 2 \\\\ 3 & 4 \\end{bmatrix}\n",
    "\\begin{bmatrix} 5 & 6 \\\\ 7 & 8 \\end{bmatrix}\n",
    "=\n",
    "\\begin{bmatrix} (1\\times5)+(2\\times7) & (1\\times6)+(2\\times8) \\\\ (3\\times5)+(4\\times7) & (3\\times6)+(4\\times8) \\end{bmatrix}\n",
    "=\n",
    "\\begin{bmatrix} 19 & 22 \\\\ 43 & 50 \\end{bmatrix}\n",
    "$$"
   ]
  },
  {
   "cell_type": "markdown",
   "metadata": {},
   "source": [
    "Other Functions for Array Computation"
   ]
  },
  {
   "cell_type": "code",
   "execution_count": 17,
   "metadata": {},
   "outputs": [
    {
     "name": "stdout",
     "output_type": "stream",
     "text": [
      "[[1 2]\n",
      " [3 4]]\n",
      "10\n",
      "[4 6]\n",
      "[3 7]\n",
      "[[1 3]\n",
      " [2 4]]\n"
     ]
    }
   ],
   "source": [
    "mat_x = np.array([[1,2],[3,4]]) \n",
    "print (mat_x)\n",
    "print(np.sum(mat_x))\n",
    "print(np.sum(mat_x, axis=0)) # [(1+3), (2+4)]\n",
    "print(np.sum(mat_x, axis=1)) # [(1+2), (3+4)]\n",
    "\n",
    "print(mat_x.T) # doesnt work for vector(i.e. rank 1)"
   ]
  },
  {
   "cell_type": "markdown",
   "metadata": {},
   "source": [
    "### Broadcasting"
   ]
  },
  {
   "cell_type": "markdown",
   "metadata": {},
   "source": [
    "- without broadcasting"
   ]
  },
  {
   "cell_type": "code",
   "execution_count": 18,
   "metadata": {},
   "outputs": [
    {
     "name": "stdout",
     "output_type": "stream",
     "text": [
      "[[10  0 10]\n",
      " [10  0 10]\n",
      " [10  0 10]]\n",
      "\n",
      "[[11  2 13]\n",
      " [14  5 16]\n",
      " [17  8 19]]\n"
     ]
    }
   ],
   "source": [
    "mat_x = np.array([[1,2,3],[4,5,6],[7,8,9]]) \n",
    "vec_v = np.array([10,0,10])\n",
    "vec_v_stack = np.tile(vec_v,(3,1))\n",
    "print(f\"{vec_v_stack}\\n\")\n",
    "#print(np.tile(vec_v,(3,9))) # repeats according to the axes (3x1 dup rows, 9x3 dup columns)\n",
    "\n",
    "new_mat = mat_x + vec_v_stack\n",
    "print (new_mat)"
   ]
  },
  {
   "cell_type": "markdown",
   "metadata": {},
   "source": [
    "- with broadcasting"
   ]
  },
  {
   "cell_type": "code",
   "execution_count": 19,
   "metadata": {},
   "outputs": [
    {
     "name": "stdout",
     "output_type": "stream",
     "text": [
      "[[11  2 13]\n",
      " [14  5 16]\n",
      " [17  8 19]]\n"
     ]
    }
   ],
   "source": [
    "new_mat = mat_x + vec_v\n",
    "print (new_mat)"
   ]
  },
  {
   "cell_type": "markdown",
   "metadata": {},
   "source": [
    "### PIL & Matplotlib\n",
    "- Load,display, plot access images as ndarray as dataset"
   ]
  },
  {
   "cell_type": "code",
   "execution_count": 30,
   "metadata": {},
   "outputs": [
    {
     "ename": "FileNotFoundError",
     "evalue": "[Errno 2] No such file or directory: 'image\\x08ookcover.jpeg'",
     "output_type": "error",
     "traceback": [
      "\u001b[0;31m---------------------------------------------------------------------------\u001b[0m",
      "\u001b[0;31mFileNotFoundError\u001b[0m                         Traceback (most recent call last)",
      "\u001b[0;32m<ipython-input-30-f1ad43882132>\u001b[0m in \u001b[0;36m<module>\u001b[0;34m\u001b[0m\n\u001b[1;32m      4\u001b[0m \u001b[0;34m\u001b[0m\u001b[0m\n\u001b[1;32m      5\u001b[0m \u001b[0;31m# Load & Display image\u001b[0m\u001b[0;34m\u001b[0m\u001b[0;34m\u001b[0m\u001b[0;34m\u001b[0m\u001b[0m\n\u001b[0;32m----> 6\u001b[0;31m \u001b[0mimg\u001b[0m \u001b[0;34m=\u001b[0m \u001b[0mImage\u001b[0m\u001b[0;34m.\u001b[0m\u001b[0mopen\u001b[0m\u001b[0;34m(\u001b[0m\u001b[0;34m'image\\bookcover.jpeg'\u001b[0m\u001b[0;34m)\u001b[0m \u001b[0;31m# Make sure you have the image file in this folder\u001b[0m\u001b[0;34m\u001b[0m\u001b[0;34m\u001b[0m\u001b[0m\n\u001b[0m\u001b[1;32m      7\u001b[0m \u001b[0mprint\u001b[0m\u001b[0;34m(\u001b[0m\u001b[0mimg\u001b[0m\u001b[0;34m.\u001b[0m\u001b[0mformat\u001b[0m\u001b[0;34m)\u001b[0m\u001b[0;34m\u001b[0m\u001b[0;34m\u001b[0m\u001b[0m\n\u001b[1;32m      8\u001b[0m \u001b[0mprint\u001b[0m\u001b[0;34m(\u001b[0m\u001b[0mimg\u001b[0m\u001b[0;34m.\u001b[0m\u001b[0mmode\u001b[0m\u001b[0;34m)\u001b[0m\u001b[0;34m\u001b[0m\u001b[0;34m\u001b[0m\u001b[0m\n",
      "\u001b[0;32m~/opt/anaconda3/envs/SpatialScoring/lib/python3.6/site-packages/PIL/Image.py\u001b[0m in \u001b[0;36mopen\u001b[0;34m(fp, mode)\u001b[0m\n\u001b[1;32m   2807\u001b[0m \u001b[0;34m\u001b[0m\u001b[0m\n\u001b[1;32m   2808\u001b[0m     \u001b[0;32mif\u001b[0m \u001b[0mfilename\u001b[0m\u001b[0;34m:\u001b[0m\u001b[0;34m\u001b[0m\u001b[0;34m\u001b[0m\u001b[0m\n\u001b[0;32m-> 2809\u001b[0;31m         \u001b[0mfp\u001b[0m \u001b[0;34m=\u001b[0m \u001b[0mbuiltins\u001b[0m\u001b[0;34m.\u001b[0m\u001b[0mopen\u001b[0m\u001b[0;34m(\u001b[0m\u001b[0mfilename\u001b[0m\u001b[0;34m,\u001b[0m \u001b[0;34m\"rb\"\u001b[0m\u001b[0;34m)\u001b[0m\u001b[0;34m\u001b[0m\u001b[0;34m\u001b[0m\u001b[0m\n\u001b[0m\u001b[1;32m   2810\u001b[0m         \u001b[0mexclusive_fp\u001b[0m \u001b[0;34m=\u001b[0m \u001b[0;32mTrue\u001b[0m\u001b[0;34m\u001b[0m\u001b[0;34m\u001b[0m\u001b[0m\n\u001b[1;32m   2811\u001b[0m \u001b[0;34m\u001b[0m\u001b[0m\n",
      "\u001b[0;31mFileNotFoundError\u001b[0m: [Errno 2] No such file or directory: 'image\\x08ookcover.jpeg'"
     ]
    }
   ],
   "source": [
    "\n",
    "from PIL import Image\n",
    "from matplotlib import image\n",
    "from matplotlib import pyplot\n",
    "\n",
    "# Load & Display image\n",
    "img = Image.open('image\\bookcover.jpeg') # Make sure you have the image file in this folder\n",
    "print(img.format)\n",
    "print(img.mode)\n",
    "print(img.size)\n",
    "# img.show()"
   ]
  },
  {
   "cell_type": "code",
   "execution_count": 31,
   "metadata": {},
   "outputs": [
    {
     "ename": "FileNotFoundError",
     "evalue": "[Errno 2] No such file or directory: 'bookCover.jpeg'",
     "output_type": "error",
     "traceback": [
      "\u001b[0;31m---------------------------------------------------------------------------\u001b[0m",
      "\u001b[0;31mFileNotFoundError\u001b[0m                         Traceback (most recent call last)",
      "\u001b[0;32m<ipython-input-31-f643647f30c4>\u001b[0m in \u001b[0;36m<module>\u001b[0;34m\u001b[0m\n\u001b[1;32m      1\u001b[0m \u001b[0;31m# Load image as ndarray and Plot it\u001b[0m\u001b[0;34m\u001b[0m\u001b[0;34m\u001b[0m\u001b[0;34m\u001b[0m\u001b[0m\n\u001b[0;32m----> 2\u001b[0;31m \u001b[0mimg_data\u001b[0m \u001b[0;34m=\u001b[0m \u001b[0mimage\u001b[0m\u001b[0;34m.\u001b[0m\u001b[0mimread\u001b[0m\u001b[0;34m(\u001b[0m\u001b[0;34m'bookCover.jpeg'\u001b[0m\u001b[0;34m)\u001b[0m\u001b[0;34m\u001b[0m\u001b[0;34m\u001b[0m\u001b[0m\n\u001b[0m\u001b[1;32m      3\u001b[0m \u001b[0mprint\u001b[0m\u001b[0;34m(\u001b[0m\u001b[0mimg_data\u001b[0m\u001b[0;34m.\u001b[0m\u001b[0mdtype\u001b[0m\u001b[0;34m)\u001b[0m\u001b[0;34m\u001b[0m\u001b[0;34m\u001b[0m\u001b[0m\n\u001b[1;32m      4\u001b[0m \u001b[0mprint\u001b[0m\u001b[0;34m(\u001b[0m\u001b[0mimg_data\u001b[0m\u001b[0;34m.\u001b[0m\u001b[0mshape\u001b[0m\u001b[0;34m)\u001b[0m\u001b[0;34m\u001b[0m\u001b[0;34m\u001b[0m\u001b[0m\n\u001b[1;32m      5\u001b[0m \u001b[0;34m\u001b[0m\u001b[0m\n",
      "\u001b[0;32m~/opt/anaconda3/envs/SpatialScoring/lib/python3.6/site-packages/matplotlib/image.py\u001b[0m in \u001b[0;36mimread\u001b[0;34m(fname, format)\u001b[0m\n\u001b[1;32m   1415\u001b[0m                              \u001b[0;34m'with Pillow installed matplotlib can handle '\u001b[0m\u001b[0;34m\u001b[0m\u001b[0;34m\u001b[0m\u001b[0m\n\u001b[1;32m   1416\u001b[0m                              'more images' % list(handlers))\n\u001b[0;32m-> 1417\u001b[0;31m         \u001b[0;32mwith\u001b[0m \u001b[0mImage\u001b[0m\u001b[0;34m.\u001b[0m\u001b[0mopen\u001b[0m\u001b[0;34m(\u001b[0m\u001b[0mfname\u001b[0m\u001b[0;34m)\u001b[0m \u001b[0;32mas\u001b[0m \u001b[0mimage\u001b[0m\u001b[0;34m:\u001b[0m\u001b[0;34m\u001b[0m\u001b[0;34m\u001b[0m\u001b[0m\n\u001b[0m\u001b[1;32m   1418\u001b[0m             \u001b[0;32mreturn\u001b[0m \u001b[0mpil_to_array\u001b[0m\u001b[0;34m(\u001b[0m\u001b[0mimage\u001b[0m\u001b[0;34m)\u001b[0m\u001b[0;34m\u001b[0m\u001b[0;34m\u001b[0m\u001b[0m\n\u001b[1;32m   1419\u001b[0m \u001b[0;34m\u001b[0m\u001b[0m\n",
      "\u001b[0;32m~/opt/anaconda3/envs/SpatialScoring/lib/python3.6/site-packages/PIL/Image.py\u001b[0m in \u001b[0;36mopen\u001b[0;34m(fp, mode)\u001b[0m\n\u001b[1;32m   2807\u001b[0m \u001b[0;34m\u001b[0m\u001b[0m\n\u001b[1;32m   2808\u001b[0m     \u001b[0;32mif\u001b[0m \u001b[0mfilename\u001b[0m\u001b[0;34m:\u001b[0m\u001b[0;34m\u001b[0m\u001b[0;34m\u001b[0m\u001b[0m\n\u001b[0;32m-> 2809\u001b[0;31m         \u001b[0mfp\u001b[0m \u001b[0;34m=\u001b[0m \u001b[0mbuiltins\u001b[0m\u001b[0;34m.\u001b[0m\u001b[0mopen\u001b[0m\u001b[0;34m(\u001b[0m\u001b[0mfilename\u001b[0m\u001b[0;34m,\u001b[0m \u001b[0;34m\"rb\"\u001b[0m\u001b[0;34m)\u001b[0m\u001b[0;34m\u001b[0m\u001b[0;34m\u001b[0m\u001b[0m\n\u001b[0m\u001b[1;32m   2810\u001b[0m         \u001b[0mexclusive_fp\u001b[0m \u001b[0;34m=\u001b[0m \u001b[0;32mTrue\u001b[0m\u001b[0;34m\u001b[0m\u001b[0;34m\u001b[0m\u001b[0m\n\u001b[1;32m   2811\u001b[0m \u001b[0;34m\u001b[0m\u001b[0m\n",
      "\u001b[0;31mFileNotFoundError\u001b[0m: [Errno 2] No such file or directory: 'bookCover.jpeg'"
     ]
    }
   ],
   "source": [
    "# Load image as ndarray and Plot it\n",
    "img_data = image.imread('bookCover.jpeg')\n",
    "print(img_data.dtype)\n",
    "print(img_data.shape)\n",
    "\n",
    "pyplot.imshow(img_data)\n",
    "pyplot.show()"
   ]
  },
  {
   "cell_type": "code",
   "execution_count": 22,
   "metadata": {},
   "outputs": [
    {
     "ename": "NameError",
     "evalue": "name 'img' is not defined",
     "output_type": "error",
     "traceback": [
      "\u001b[0;31m---------------------------------------------------------------------------\u001b[0m",
      "\u001b[0;31mNameError\u001b[0m                                 Traceback (most recent call last)",
      "\u001b[0;32m<ipython-input-22-0bb9c563a8b5>\u001b[0m in \u001b[0;36m<module>\u001b[0;34m\u001b[0m\n\u001b[1;32m      1\u001b[0m \u001b[0;31m# Convert to/fro between PIL image and Numpy array\u001b[0m\u001b[0;34m\u001b[0m\u001b[0;34m\u001b[0m\u001b[0;34m\u001b[0m\u001b[0m\n\u001b[1;32m      2\u001b[0m \u001b[0;31m#image to numpy\u001b[0m\u001b[0;34m\u001b[0m\u001b[0;34m\u001b[0m\u001b[0;34m\u001b[0m\u001b[0m\n\u001b[0;32m----> 3\u001b[0;31m \u001b[0mimg_ndata\u001b[0m \u001b[0;34m=\u001b[0m \u001b[0mnp\u001b[0m\u001b[0;34m.\u001b[0m\u001b[0masarray\u001b[0m\u001b[0;34m(\u001b[0m\u001b[0mimg\u001b[0m\u001b[0;34m)\u001b[0m\u001b[0;34m\u001b[0m\u001b[0;34m\u001b[0m\u001b[0m\n\u001b[0m\u001b[1;32m      4\u001b[0m \u001b[0;31m#print (img_ndata)\u001b[0m\u001b[0;34m\u001b[0m\u001b[0;34m\u001b[0m\u001b[0;34m\u001b[0m\u001b[0m\n\u001b[1;32m      5\u001b[0m \u001b[0;34m\u001b[0m\u001b[0m\n",
      "\u001b[0;31mNameError\u001b[0m: name 'img' is not defined"
     ]
    }
   ],
   "source": [
    "# Convert to/fro between PIL image and Numpy array\n",
    "#image to numpy\n",
    "img_ndata = np.asarray(img)\n",
    "#print (img_ndata)\n",
    "\n",
    "# numpy to image\n",
    "img2 = Image.fromarray(img_ndata)\n",
    "#img2.show()"
   ]
  },
  {
   "cell_type": "code",
   "execution_count": 23,
   "metadata": {},
   "outputs": [
    {
     "ename": "NameError",
     "evalue": "name 'image' is not defined",
     "output_type": "error",
     "traceback": [
      "\u001b[0;31m---------------------------------------------------------------------------\u001b[0m",
      "\u001b[0;31mNameError\u001b[0m                                 Traceback (most recent call last)",
      "\u001b[0;32m<ipython-input-23-db90a7cffde6>\u001b[0m in \u001b[0;36m<module>\u001b[0;34m\u001b[0m\n\u001b[1;32m      4\u001b[0m \u001b[0;32mfor\u001b[0m \u001b[0mfn\u001b[0m \u001b[0;32min\u001b[0m \u001b[0mos\u001b[0m\u001b[0;34m.\u001b[0m\u001b[0mlistdir\u001b[0m\u001b[0;34m(\u001b[0m\u001b[0;34m'image'\u001b[0m\u001b[0;34m)\u001b[0m\u001b[0;34m:\u001b[0m\u001b[0;34m\u001b[0m\u001b[0;34m\u001b[0m\u001b[0m\n\u001b[1;32m      5\u001b[0m     \u001b[0;31m#load image\u001b[0m\u001b[0;34m\u001b[0m\u001b[0;34m\u001b[0m\u001b[0;34m\u001b[0m\u001b[0m\n\u001b[0;32m----> 6\u001b[0;31m     \u001b[0meach_img_d\u001b[0m \u001b[0;34m=\u001b[0m \u001b[0mimage\u001b[0m\u001b[0;34m.\u001b[0m\u001b[0mimread\u001b[0m\u001b[0;34m(\u001b[0m\u001b[0;34m'image/'\u001b[0m\u001b[0;34m+\u001b[0m\u001b[0mfn\u001b[0m\u001b[0;34m)\u001b[0m\u001b[0;34m\u001b[0m\u001b[0;34m\u001b[0m\u001b[0m\n\u001b[0m\u001b[1;32m      7\u001b[0m     \u001b[0mload_images\u001b[0m\u001b[0;34m.\u001b[0m\u001b[0mappend\u001b[0m\u001b[0;34m(\u001b[0m\u001b[0meach_img_d\u001b[0m\u001b[0;34m)\u001b[0m\u001b[0;34m\u001b[0m\u001b[0;34m\u001b[0m\u001b[0m\n\u001b[1;32m      8\u001b[0m     \u001b[0mprint\u001b[0m \u001b[0;34m(\u001b[0m\u001b[0;34m'loaded:  %s %s'\u001b[0m\u001b[0;34m%\u001b[0m \u001b[0;34m(\u001b[0m\u001b[0mfn\u001b[0m\u001b[0;34m,\u001b[0m\u001b[0meach_img_d\u001b[0m\u001b[0;34m.\u001b[0m\u001b[0mshape\u001b[0m \u001b[0;34m)\u001b[0m\u001b[0;34m)\u001b[0m\u001b[0;34m\u001b[0m\u001b[0;34m\u001b[0m\u001b[0m\n",
      "\u001b[0;31mNameError\u001b[0m: name 'image' is not defined"
     ]
    }
   ],
   "source": [
    "# Load all images from directory\n",
    "import os\n",
    "load_images = list()\n",
    "for fn in os.listdir('image'):\n",
    "    #load image\n",
    "    each_img_d = image.imread('image/'+fn)\n",
    "    load_images.append(each_img_d)\n",
    "    print ('loaded:  %s %s'% (fn,each_img_d.shape ))\n"
   ]
  },
  {
   "cell_type": "code",
   "execution_count": 24,
   "metadata": {},
   "outputs": [
    {
     "ename": "NameError",
     "evalue": "name 'Image' is not defined",
     "output_type": "error",
     "traceback": [
      "\u001b[0;31m---------------------------------------------------------------------------\u001b[0m",
      "\u001b[0;31mNameError\u001b[0m                                 Traceback (most recent call last)",
      "\u001b[0;32m<ipython-input-24-9765599127a4>\u001b[0m in \u001b[0;36m<module>\u001b[0;34m\u001b[0m\n\u001b[1;32m      1\u001b[0m \u001b[0;31m# Saving images\u001b[0m\u001b[0;34m\u001b[0m\u001b[0;34m\u001b[0m\u001b[0;34m\u001b[0m\u001b[0m\n\u001b[0;32m----> 2\u001b[0;31m \u001b[0mimg\u001b[0m \u001b[0;34m=\u001b[0m \u001b[0mImage\u001b[0m\u001b[0;34m.\u001b[0m\u001b[0mopen\u001b[0m\u001b[0;34m(\u001b[0m\u001b[0;34m'image/bookcover.jpeg'\u001b[0m\u001b[0;34m)\u001b[0m\u001b[0;34m\u001b[0m\u001b[0;34m\u001b[0m\u001b[0m\n\u001b[0m\u001b[1;32m      3\u001b[0m \u001b[0mimg\u001b[0m\u001b[0;34m.\u001b[0m\u001b[0msave\u001b[0m\u001b[0;34m(\u001b[0m\u001b[0;34m'image/bookcover.png'\u001b[0m\u001b[0;34m,\u001b[0m\u001b[0mformat\u001b[0m\u001b[0;34m=\u001b[0m\u001b[0;34m'PNG'\u001b[0m\u001b[0;34m)\u001b[0m\u001b[0;34m\u001b[0m\u001b[0;34m\u001b[0m\u001b[0m\n\u001b[1;32m      4\u001b[0m \u001b[0;31m#image2 = Image.open('demo_data/bookCover.png')\u001b[0m\u001b[0;34m\u001b[0m\u001b[0;34m\u001b[0m\u001b[0;34m\u001b[0m\u001b[0m\n\u001b[1;32m      5\u001b[0m \u001b[0;31m# image2.show()\u001b[0m\u001b[0;34m\u001b[0m\u001b[0;34m\u001b[0m\u001b[0;34m\u001b[0m\u001b[0m\n",
      "\u001b[0;31mNameError\u001b[0m: name 'Image' is not defined"
     ]
    }
   ],
   "source": [
    "# Saving images\n",
    "img = Image.open('image/bookcover.jpeg')\n",
    "img.save('image/bookcover.png',format='PNG')\n",
    "#image2 = Image.open('demo_data/bookCover.png')\n",
    "# image2.show()\n",
    "\n",
    "# Convert to grayscale\n",
    "gray_img = img.convert(mode='L')\n",
    "gray_img.save('image/g_bookCover.jpg')\n",
    "\n",
    "# Resize (keep aspect ratio)\n",
    "resize_img = img.copy()\n",
    "resize_img.thumbnail((100,100))\n",
    "resize_img.save('image/thumbnail_bookCover.jpg')\n",
    "\n",
    "\n",
    "# Resize (NOT keep aspect ratio)\n",
    "resize_img_off = img.resize((100,100))\n",
    "resize_img_off.save('image/resize_off_bookCover.jpg')\n",
    "print(resize_img_off.size)\n",
    "\n",
    "# Crop\n",
    "width, height = img.size\n",
    "crop_size = 100\n",
    "# get the (topleft_x,topleft_y,bottomRight_x,bottomRight_y)\n",
    "crop_tuple = width/2-crop_size/2,height/2-crop_size/2 , width/2+crop_size/2,height/2+crop_size/2 \n",
    "crop_img = img.crop(crop_tuple)\n",
    "crop_img.save('image/crop_bookCover.jpg')\n",
    "print(crop_img.size)"
   ]
  },
  {
   "cell_type": "markdown",
   "metadata": {},
   "source": [
    "- Flip & Rotate (Data Arugmentation)"
   ]
  },
  {
   "cell_type": "code",
   "execution_count": 25,
   "metadata": {},
   "outputs": [
    {
     "ename": "NameError",
     "evalue": "name 'img' is not defined",
     "output_type": "error",
     "traceback": [
      "\u001b[0;31m---------------------------------------------------------------------------\u001b[0m",
      "\u001b[0;31mNameError\u001b[0m                                 Traceback (most recent call last)",
      "\u001b[0;32m<ipython-input-25-a32973d7e195>\u001b[0m in \u001b[0;36m<module>\u001b[0;34m\u001b[0m\n\u001b[0;32m----> 1\u001b[0;31m \u001b[0mh_flip\u001b[0m \u001b[0;34m=\u001b[0m \u001b[0mimg\u001b[0m\u001b[0;34m.\u001b[0m\u001b[0mtranspose\u001b[0m\u001b[0;34m(\u001b[0m\u001b[0mImage\u001b[0m\u001b[0;34m.\u001b[0m\u001b[0mFLIP_LEFT_RIGHT\u001b[0m\u001b[0;34m)\u001b[0m\u001b[0;34m\u001b[0m\u001b[0;34m\u001b[0m\u001b[0m\n\u001b[0m\u001b[1;32m      2\u001b[0m \u001b[0mv_flip\u001b[0m \u001b[0;34m=\u001b[0m \u001b[0mimg\u001b[0m\u001b[0;34m.\u001b[0m\u001b[0mtranspose\u001b[0m\u001b[0;34m(\u001b[0m\u001b[0mImage\u001b[0m\u001b[0;34m.\u001b[0m\u001b[0mFLIP_TOP_BOTTOM\u001b[0m\u001b[0;34m)\u001b[0m\u001b[0;34m\u001b[0m\u001b[0;34m\u001b[0m\u001b[0m\n\u001b[1;32m      3\u001b[0m \u001b[0mrot_45\u001b[0m \u001b[0;34m=\u001b[0m \u001b[0mimg\u001b[0m\u001b[0;34m.\u001b[0m\u001b[0mrotate\u001b[0m\u001b[0;34m(\u001b[0m\u001b[0;36m45\u001b[0m\u001b[0;34m)\u001b[0m\u001b[0;34m\u001b[0m\u001b[0;34m\u001b[0m\u001b[0m\n\u001b[1;32m      4\u001b[0m \u001b[0mrot_90\u001b[0m \u001b[0;34m=\u001b[0m \u001b[0mimg\u001b[0m\u001b[0;34m.\u001b[0m\u001b[0mrotate\u001b[0m\u001b[0;34m(\u001b[0m\u001b[0;36m90\u001b[0m\u001b[0;34m)\u001b[0m\u001b[0;34m\u001b[0m\u001b[0;34m\u001b[0m\u001b[0m\n\u001b[1;32m      5\u001b[0m \u001b[0;34m\u001b[0m\u001b[0m\n",
      "\u001b[0;31mNameError\u001b[0m: name 'img' is not defined"
     ]
    }
   ],
   "source": [
    "h_flip = img.transpose(Image.FLIP_LEFT_RIGHT)\n",
    "v_flip = img.transpose(Image.FLIP_TOP_BOTTOM)\n",
    "rot_45 = img.rotate(45)\n",
    "rot_90 = img.rotate(90)\n",
    "\n",
    "pyplot.figure(figsize=(10,10)) # in inches \n",
    "\n",
    "pyplot.subplot(221)\n",
    "pyplot.imshow(h_flip)\n",
    "pyplot.subplot(222)\n",
    "pyplot.imshow(v_flip)\n",
    "pyplot.subplot(223)\n",
    "pyplot.imshow(rot_45)\n",
    "pyplot.subplot(224)\n",
    "pyplot.imshow(rot_90)"
   ]
  },
  {
   "cell_type": "markdown",
   "metadata": {},
   "source": [
    "### Saving image dataset as .npy files."
   ]
  },
  {
   "cell_type": "code",
   "execution_count": 26,
   "metadata": {},
   "outputs": [
    {
     "ename": "NameError",
     "evalue": "name 'img' is not defined",
     "output_type": "error",
     "traceback": [
      "\u001b[0;31m---------------------------------------------------------------------------\u001b[0m",
      "\u001b[0;31mNameError\u001b[0m                                 Traceback (most recent call last)",
      "\u001b[0;32m<ipython-input-26-e76fb8822bf5>\u001b[0m in \u001b[0;36m<module>\u001b[0;34m\u001b[0m\n\u001b[0;32m----> 1\u001b[0;31m \u001b[0mimg_npy_data\u001b[0m \u001b[0;34m=\u001b[0m \u001b[0mnp\u001b[0m\u001b[0;34m.\u001b[0m\u001b[0masarray\u001b[0m\u001b[0;34m(\u001b[0m\u001b[0mimg\u001b[0m\u001b[0;34m)\u001b[0m\u001b[0;34m\u001b[0m\u001b[0;34m\u001b[0m\u001b[0m\n\u001b[0m\u001b[1;32m      2\u001b[0m \u001b[0mnp\u001b[0m\u001b[0;34m.\u001b[0m\u001b[0msave\u001b[0m\u001b[0;34m(\u001b[0m\u001b[0;34m'image/bookCover.npy'\u001b[0m\u001b[0;34m,\u001b[0m\u001b[0mimg_npy_data\u001b[0m\u001b[0;34m)\u001b[0m\u001b[0;34m\u001b[0m\u001b[0;34m\u001b[0m\u001b[0m\n\u001b[1;32m      3\u001b[0m \u001b[0;34m\u001b[0m\u001b[0m\n\u001b[1;32m      4\u001b[0m \u001b[0;31m# Check if reconstructed properly\u001b[0m\u001b[0;34m\u001b[0m\u001b[0;34m\u001b[0m\u001b[0;34m\u001b[0m\u001b[0m\n\u001b[1;32m      5\u001b[0m \u001b[0mimg_npy_data_2\u001b[0m \u001b[0;34m=\u001b[0m \u001b[0mnp\u001b[0m\u001b[0;34m.\u001b[0m\u001b[0mload\u001b[0m\u001b[0;34m(\u001b[0m\u001b[0;34m'image/bookCover.npy'\u001b[0m\u001b[0;34m)\u001b[0m\u001b[0;34m\u001b[0m\u001b[0;34m\u001b[0m\u001b[0m\n",
      "\u001b[0;31mNameError\u001b[0m: name 'img' is not defined"
     ]
    }
   ],
   "source": [
    "img_npy_data = np.asarray(img)\n",
    "np.save('image/bookCover.npy',img_npy_data)\n",
    "\n",
    "# Check if reconstructed properly\n",
    "img_npy_data_2 = np.load('image/bookCover.npy')\n",
    "img_new = Image.fromarray(img_npy_data_2)\n",
    "pyplot.imshow(img_new)\n",
    "pyplot.show()"
   ]
  },
  {
   "cell_type": "markdown",
   "metadata": {},
   "source": [
    "### Loading mulitple images (dataset) from .npy files (i.e. ndarray)"
   ]
  },
  {
   "cell_type": "code",
   "execution_count": 27,
   "metadata": {},
   "outputs": [
    {
     "name": "stderr",
     "output_type": "stream",
     "text": [
      "Matplotlib is building the font cache using fc-list. This may take a moment.\n"
     ]
    },
    {
     "name": "stdout",
     "output_type": "stream",
     "text": [
      "(121383, 784)\n"
     ]
    },
    {
     "ename": "NameError",
     "evalue": "name 'Image' is not defined",
     "output_type": "error",
     "traceback": [
      "\u001b[0;31m---------------------------------------------------------------------------\u001b[0m",
      "\u001b[0;31mNameError\u001b[0m                                 Traceback (most recent call last)",
      "\u001b[0;32m<ipython-input-27-859c327edc91>\u001b[0m in \u001b[0;36m<module>\u001b[0;34m\u001b[0m\n\u001b[1;32m      9\u001b[0m \u001b[0mrows\u001b[0m \u001b[0;34m=\u001b[0m \u001b[0;36m4\u001b[0m\u001b[0;34m\u001b[0m\u001b[0;34m\u001b[0m\u001b[0m\n\u001b[1;32m     10\u001b[0m \u001b[0;32mfor\u001b[0m \u001b[0mi\u001b[0m \u001b[0;32min\u001b[0m \u001b[0mrange\u001b[0m\u001b[0;34m(\u001b[0m\u001b[0mcols\u001b[0m\u001b[0;34m*\u001b[0m\u001b[0mrows\u001b[0m\u001b[0;34m)\u001b[0m\u001b[0;34m:\u001b[0m\u001b[0;34m\u001b[0m\u001b[0;34m\u001b[0m\u001b[0m\n\u001b[0;32m---> 11\u001b[0;31m     \u001b[0mimg\u001b[0m \u001b[0;34m=\u001b[0m \u001b[0mImage\u001b[0m\u001b[0;34m.\u001b[0m\u001b[0mfromarray\u001b[0m\u001b[0;34m(\u001b[0m\u001b[0mmonalisa_images\u001b[0m\u001b[0;34m[\u001b[0m\u001b[0mi\u001b[0m\u001b[0;34m]\u001b[0m\u001b[0;34m)\u001b[0m\u001b[0;34m\u001b[0m\u001b[0;34m\u001b[0m\u001b[0m\n\u001b[0m\u001b[1;32m     12\u001b[0m     \u001b[0mfig\u001b[0m\u001b[0;34m.\u001b[0m\u001b[0madd_subplot\u001b[0m\u001b[0;34m(\u001b[0m\u001b[0mrows\u001b[0m\u001b[0;34m,\u001b[0m \u001b[0mcols\u001b[0m\u001b[0;34m,\u001b[0m \u001b[0mi\u001b[0m\u001b[0;34m+\u001b[0m\u001b[0;36m1\u001b[0m\u001b[0;34m)\u001b[0m\u001b[0;34m\u001b[0m\u001b[0;34m\u001b[0m\u001b[0m\n\u001b[1;32m     13\u001b[0m     \u001b[0mplt\u001b[0m\u001b[0;34m.\u001b[0m\u001b[0mimshow\u001b[0m\u001b[0;34m(\u001b[0m\u001b[0mimg\u001b[0m\u001b[0;34m)\u001b[0m\u001b[0;34m\u001b[0m\u001b[0;34m\u001b[0m\u001b[0m\n",
      "\u001b[0;31mNameError\u001b[0m: name 'Image' is not defined"
     ]
    },
    {
     "data": {
      "text/plain": [
       "<Figure size 864x864 with 0 Axes>"
      ]
     },
     "metadata": {},
     "output_type": "display_data"
    }
   ],
   "source": [
    "import matplotlib.pyplot as plt\n",
    "\n",
    "monalisa_dataset = np.load('image/full_numpy_bitmap_The Mona Lisa.npy')\n",
    "print(monalisa_dataset.shape)\n",
    "monalisa_images = monalisa_dataset.reshape((121383,28,28))\n",
    "# numpy to image\n",
    "fig = plt.figure(figsize=(12,12))\n",
    "cols = 4\n",
    "rows = 4\n",
    "for i in range(cols*rows):\n",
    "    img = Image.fromarray(monalisa_images[i])\n",
    "    fig.add_subplot(rows, cols, i+1)\n",
    "    plt.imshow(img)\n",
    "plt.show()"
   ]
  },
  {
   "cell_type": "markdown",
   "metadata": {},
   "source": [
    "### Saving mulitple image dataset as .npy files."
   ]
  },
  {
   "cell_type": "code",
   "execution_count": null,
   "metadata": {},
   "outputs": [],
   "source": [
    "# np.savez()\n",
    "np.save('image/monalisa_16.npy',monalisa_images[:16,:,:])\n",
    "monalisa16_dataset = np.load('image/monalisa_16.npy')\n",
    "monalisa16_dataset.ndim\n",
    "fig = plt.figure(figsize=(12,12))\n",
    "cols = 4\n",
    "rows = 4\n",
    "for i in range(monalisa16_dataset.shape[0]):\n",
    "    img = Image.fromarray(monalisa16_dataset[i,:,:])\n",
    "    fig.add_subplot(rows, cols, i+1)\n",
    "    plt.imshow(img)\n",
    "plt.show()"
   ]
  },
  {
   "cell_type": "code",
   "execution_count": null,
   "metadata": {},
   "outputs": [],
   "source": [
    "x = np.arange(0.0,5.0,0.5)\n",
    "y = np.arange(5)\n",
    "z = np.linspace(1.0, 5.0, num=50,dtype=np.int16)\n",
    "z1 = np.linspace(1.0, 5.0, num=50)\n",
    "\n",
    "print(\"\\nRange (Inferred float) based on number of samples:\\n\",x)\n",
    "print(\"\\nRange (integer) based on number of samples:\\n\",y)\n",
    "print(\"\\nLinspace (Cast integer) based on number of steps:\\n\", z)\n",
    "print(\"\\nLinspace (integer) based on number of steps:\\n\",z1)\n",
    "\n",
    "np.savetxt('demo/text_output.txt', y, delimiter=',')   # X is an array"
   ]
  },
  {
   "cell_type": "code",
   "execution_count": null,
   "metadata": {},
   "outputs": [],
   "source": [
    "np.mgrid[0:5,0:5]"
   ]
  },
  {
   "cell_type": "code",
   "execution_count": null,
   "metadata": {},
   "outputs": [],
   "source": [
    "nx, ny = (3, 2)\n",
    "x = np.linspace(0, 1, nx)\n",
    "y = np.linspace(0, 1, ny)\n",
    "xv, yv = np.meshgrid(x, y)\n",
    "xv"
   ]
  },
  {
   "cell_type": "code",
   "execution_count": null,
   "metadata": {},
   "outputs": [],
   "source": []
  },
  {
   "cell_type": "code",
   "execution_count": null,
   "metadata": {},
   "outputs": [],
   "source": []
  },
  {
   "cell_type": "code",
   "execution_count": null,
   "metadata": {},
   "outputs": [],
   "source": []
  },
  {
   "cell_type": "code",
   "execution_count": null,
   "metadata": {},
   "outputs": [],
   "source": []
  },
  {
   "cell_type": "code",
   "execution_count": null,
   "metadata": {},
   "outputs": [],
   "source": []
  },
  {
   "cell_type": "code",
   "execution_count": null,
   "metadata": {},
   "outputs": [],
   "source": []
  }
 ],
 "metadata": {
  "kernelspec": {
   "display_name": "Python 3",
   "language": "python",
   "name": "python3"
  },
  "language_info": {
   "codemirror_mode": {
    "name": "ipython",
    "version": 3
   },
   "file_extension": ".py",
   "mimetype": "text/x-python",
   "name": "python",
   "nbconvert_exporter": "python",
   "pygments_lexer": "ipython3",
   "version": "3.6.10"
  }
 },
 "nbformat": 4,
 "nbformat_minor": 2
}
